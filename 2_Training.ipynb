{
 "cells": [
  {
   "cell_type": "markdown",
   "metadata": {
    "colab_type": "text",
    "id": "Rj4whFUhyv6w"
   },
   "source": [
    "5# Computer Vision Nanodegree\n",
    "\n",
    "## Project: Image Captioning\n",
    "\n",
    "---\n",
    "\n",
    "In this notebook, you will train your CNN-RNN model.  \n",
    "\n",
    "You are welcome and encouraged to try out many different architectures and hyperparameters when searching for a good model.\n",
    "\n",
    "This does have the potential to make the project quite messy!  Before submitting your project, make sure that you clean up:\n",
    "- the code you write in this notebook.  The notebook should describe how to train a single CNN-RNN architecture, corresponding to your final choice of hyperparameters.  You should structure the notebook so that the reviewer can replicate your results by running the code in this notebook.  \n",
    "- the output of the code cell in **Step 2**.  The output should show the output obtained when training the model from scratch.\n",
    "\n",
    "This notebook **will be graded**.  \n",
    "\n",
    "Feel free to use the links below to navigate the notebook:\n",
    "- [Step 1](#step1): Training Setup\n",
    "- [Step 2](#step2): Train your Model\n",
    "- [Step 3](#step3): (Optional) Validate your Model"
   ]
  },
  {
   "cell_type": "markdown",
   "metadata": {
    "colab_type": "text",
    "id": "M9kj0Ry3yv62"
   },
   "source": [
    "<a id='step1'></a>\n",
    "## Step 1: Training Setup\n",
    "\n",
    "In this step of the notebook, you will customize the training of your CNN-RNN model by specifying hyperparameters and setting other options that are important to the training procedure.  The values you set now will be used when training your model in **Step 2** below.\n",
    "\n",
    "You should only amend blocks of code that are preceded by a `TODO` statement.  **Any code blocks that are not preceded by a `TODO` statement should not be modified**.\n",
    "\n",
    "### Task #1\n",
    "\n",
    "Begin by setting the following variables:\n",
    "- `batch_size` - the batch size of each training batch.  It is the number of image-caption pairs used to amend the model weights in each training step. \n",
    "- `vocab_threshold` - the minimum word count threshold.  Note that a larger threshold will result in a smaller vocabulary, whereas a smaller threshold will include rarer words and result in a larger vocabulary.  \n",
    "- `vocab_from_file` - a Boolean that decides whether to load the vocabulary from file. \n",
    "- `embed_size` - the dimensionality of the image and word embeddings.  \n",
    "- `hidden_size` - the number of features in the hidden state of the RNN decoder.  \n",
    "- `num_epochs` - the number of epochs to train the model.  We recommend that you set `num_epochs=3`, but feel free to increase or decrease this number as you wish.  [This paper](https://arxiv.org/pdf/1502.03044.pdf) trained a captioning model on a single state-of-the-art GPU for 3 days, but you'll soon see that you can get reasonable results in a matter of a few hours!  (_But of course, if you want your model to compete with current research, you will have to train for much longer._)\n",
    "- `save_every` - determines how often to save the model weights.  We recommend that you set `save_every=1`, to save the model weights after each epoch.  This way, after the `i`th epoch, the encoder and decoder weights will be saved in the `models/` folder as `encoder-i.pkl` and `decoder-i.pkl`, respectively.\n",
    "- `print_every` - determines how often to print the batch loss to the Jupyter notebook while training.  Note that you **will not** observe a monotonic decrease in the loss function while training - this is perfectly fine and completely expected!  You are encouraged to keep this at its default value of `100` to avoid clogging the notebook, but feel free to change it.\n",
    "- `log_file` - the name of the text file containing - for every step - how the loss and perplexity evolved during training.\n",
    "\n",
    "If you're not sure where to begin to set some of the values above, you can peruse [this paper](https://arxiv.org/pdf/1502.03044.pdf) and [this paper](https://arxiv.org/pdf/1411.4555.pdf) for useful guidance!  **To avoid spending too long on this notebook**, you are encouraged to consult these suggested research papers to obtain a strong initial guess for which hyperparameters are likely to work best.  Then, train a single model, and proceed to the next notebook (**3_Inference.ipynb**).  If you are unhappy with your performance, you can return to this notebook to tweak the hyperparameters (and/or the architecture in **model.py**) and re-train your model.\n",
    "\n",
    "### Question 1\n",
    "\n",
    "**Question:** Describe your CNN-RNN architecture in detail.  With this architecture in mind, how did you select the values of the variables in Task 1?  If you consulted a research paper detailing a successful implementation of an image captioning model, please provide the reference.\n",
    "\n",
    "**Answer:** \n",
    "\n",
    "\n",
    "### (Optional) Task #2\n",
    "\n",
    "Note that we have provided a recommended image transform `transform_train` for pre-processing the training images, but you are welcome (and encouraged!) to modify it as you wish.  When modifying this transform, keep in mind that:\n",
    "- the images in the dataset have varying heights and widths, and \n",
    "- if using a pre-trained model, you must perform the corresponding appropriate normalization.\n",
    "\n",
    "### Question 2\n",
    "\n",
    "**Question:** How did you select the transform in `transform_train`?  If you left the transform at its provided value, why do you think that it is a good choice for your CNN architecture?\n",
    "\n",
    "**Answer:** \n",
    "\n",
    "### Task #3\n",
    "\n",
    "Next, you will specify a Python list containing the learnable parameters of the model.  For instance, if you decide to make all weights in the decoder trainable, but only want to train the weights in the embedding layer of the encoder, then you should set `params` to something like:\n",
    "```\n",
    "params = list(decoder.parameters()) + list(encoder.embed.parameters()) \n",
    "```\n",
    "\n",
    "### Question 3\n",
    "\n",
    "**Question:** How did you select the trainable parameters of your architecture?  Why do you think this is a good choice?\n",
    "\n",
    "**Answer:** \n",
    "\n",
    "### Task #4\n",
    "\n",
    "Finally, you will select an [optimizer](http://pytorch.org/docs/master/optim.html#torch.optim.Optimizer).\n",
    "\n",
    "### Question 4\n",
    "\n",
    "**Question:** How did you select the optimizer used to train your model?\n",
    "\n",
    "**Answer:** "
   ]
  },
  {
   "cell_type": "markdown",
   "metadata": {},
   "source": [
    "## Installation of COCO API for Windows"
   ]
  },
  {
   "cell_type": "code",
   "execution_count": 11,
   "metadata": {},
   "outputs": [
    {
     "name": "stdout",
     "output_type": "stream",
     "text": [
      "G:\\\n"
     ]
    }
   ],
   "source": [
    "%cd .."
   ]
  },
  {
   "cell_type": "code",
   "execution_count": 12,
   "metadata": {},
   "outputs": [
    {
     "name": "stdout",
     "output_type": "stream",
     "text": [
      "Collecting git+https://github.com/philferriere/cocoapi.git#subdirectory=PythonAPI\n",
      "  Cloning https://github.com/philferriere/cocoapi.git to c:\\users\\susbr\\appdata\\local\\temp\\pip-req-build-80hmlavc\n",
      "Requirement already satisfied (use --upgrade to upgrade): pycocotools==2.0 from git+https://github.com/philferriere/cocoapi.git#subdirectory=PythonAPI in c:\\users\\susbr\\appdata\\local\\continuum\\anaconda3\\envs\\pytorch\\lib\\site-packages\n",
      "Building wheels for collected packages: pycocotools\n",
      "  Building wheel for pycocotools (setup.py): started\n",
      "  Building wheel for pycocotools (setup.py): finished with status 'done'\n",
      "  Created wheel for pycocotools: filename=pycocotools-2.0-cp37-cp37m-win_amd64.whl size=82747 sha256=ac98505831bc9221965f41528398f220a529f12ea32c8669cfdfc5e93ce74a24\n",
      "  Stored in directory: C:\\Users\\susbr\\AppData\\Local\\Temp\\pip-ephem-wheel-cache-xid3iypn\\wheels\\69\\2b\\12\\2fa959e49f73d26cff202c2f4e5079096c9c57c8a8509fd75c\n",
      "Successfully built pycocotools\n"
     ]
    },
    {
     "name": "stderr",
     "output_type": "stream",
     "text": [
      "  Running command git clone -q https://github.com/philferriere/cocoapi.git 'C:\\Users\\susbr\\AppData\\Local\\Temp\\pip-req-build-80hmlavc'\n"
     ]
    }
   ],
   "source": [
    "! pip install git+https://github.com/philferriere/cocoapi.git#subdirectory=PythonAPI"
   ]
  },
  {
   "cell_type": "code",
   "execution_count": null,
   "metadata": {},
   "outputs": [],
   "source": [
    "%cd cocoapi/PythonAPI/"
   ]
  },
  {
   "cell_type": "code",
   "execution_count": null,
   "metadata": {},
   "outputs": [],
   "source": [
    "!wget http://images.cocodataset.org/annotations/annotations_trainval2014.zip"
   ]
  },
  {
   "cell_type": "markdown",
   "metadata": {
    "colab": {
     "base_uri": "https://localhost:8080/",
     "height": 34
    },
    "colab_type": "code",
    "id": "Nxymlaz24TKP",
    "outputId": "4159bf11-8b30-4be2-c6ed-15f1b7f03947"
   },
   "source": [
    "## Installation for COCO API under Linux"
   ]
  },
  {
   "cell_type": "code",
   "execution_count": null,
   "metadata": {
    "colab": {
     "base_uri": "https://localhost:8080/",
     "height": 102
    },
    "colab_type": "code",
    "id": "eOSPeLP05Txx",
    "outputId": "7b226451-5cd1-45d0-9718-720dff1931f2"
   },
   "outputs": [],
   "source": [
    "%cd /opt\n",
    "! git clone https://github.com/cocodataset/cocoapi.git "
   ]
  },
  {
   "cell_type": "code",
   "execution_count": null,
   "metadata": {
    "colab": {
     "base_uri": "https://localhost:8080/",
     "height": 1000
    },
    "colab_type": "code",
    "id": "qOdOiGmX5b8H",
    "outputId": "9aad13e5-62a9-4f5a-edfe-848199967253"
   },
   "outputs": [],
   "source": [
    "%cd opt/cocoapi/PythonAPI  \n",
    "! make  \n",
    "%cd .."
   ]
  },
  {
   "cell_type": "markdown",
   "metadata": {
    "colab": {
     "base_uri": "https://localhost:8080/",
     "height": 34
    },
    "colab_type": "code",
    "id": "yAxnuojz5tG3",
    "outputId": "087d0cf6-8d2d-4726-849f-35c83f2120a7"
   },
   "source": [
    "## Downloading and extracting the data"
   ]
  },
  {
   "cell_type": "code",
   "execution_count": null,
   "metadata": {
    "colab": {
     "base_uri": "https://localhost:8080/",
     "height": 204
    },
    "colab_type": "code",
    "id": "-WykWGsf5vVH",
    "outputId": "73607cc0-06ed-4c3a-9c38-fef8d90a7c70"
   },
   "outputs": [],
   "source": [
    "!wget http://images.cocodataset.org/annotations/annotations_trainval2014.zip"
   ]
  },
  {
   "cell_type": "code",
   "execution_count": null,
   "metadata": {
    "colab": {
     "base_uri": "https://localhost:8080/",
     "height": 136
    },
    "colab_type": "code",
    "id": "6Dd1jYCN51gw",
    "outputId": "6144b0bb-b02d-4d1d-f486-a4195b16bba3"
   },
   "outputs": [],
   "source": [
    "!unzip annotations_trainval2014.zip"
   ]
  },
  {
   "cell_type": "code",
   "execution_count": null,
   "metadata": {
    "colab": {},
    "colab_type": "code",
    "id": "dLAWZk7j_hHJ"
   },
   "outputs": [],
   "source": [
    "mkdir images"
   ]
  },
  {
   "cell_type": "code",
   "execution_count": null,
   "metadata": {
    "colab": {
     "base_uri": "https://localhost:8080/",
     "height": 204
    },
    "colab_type": "code",
    "id": "A1kZingq6CgK",
    "outputId": "bdf51743-b6d0-4600-d934-51bbb5266584"
   },
   "outputs": [],
   "source": [
    "!wget http://images.cocodataset.org/zips/train2014.zip"
   ]
  },
  {
   "cell_type": "code",
   "execution_count": null,
   "metadata": {},
   "outputs": [],
   "source": [
    "!unzip train2014.zip -d images"
   ]
  },
  {
   "cell_type": "code",
   "execution_count": null,
   "metadata": {
    "colab": {
     "base_uri": "https://localhost:8080/",
     "height": 204
    },
    "colab_type": "code",
    "id": "7rVAk44hBZBh",
    "outputId": "9243214f-5cbe-41cf-efac-e80ee4d35244"
   },
   "outputs": [],
   "source": [
    "!wget http://images.cocodataset.org/zips/val2014.zip"
   ]
  },
  {
   "cell_type": "code",
   "execution_count": null,
   "metadata": {
    "colab": {
     "base_uri": "https://localhost:8080/",
     "height": 1000
    },
    "colab_type": "code",
    "id": "H-wK74x5B39h",
    "outputId": "2b629635-6dde-405e-f3df-49c0fd352cac"
   },
   "outputs": [],
   "source": [
    "!unzip val2014.zip -d images"
   ]
  },
  {
   "cell_type": "markdown",
   "metadata": {},
   "source": [
    "## Setup for Google Colab\n",
    "not really recommended, because downloading and extracting the dataset takes a long time!"
   ]
  },
  {
   "cell_type": "code",
   "execution_count": null,
   "metadata": {
    "colab": {
     "base_uri": "https://localhost:8080/",
     "height": 122
    },
    "colab_type": "code",
    "id": "HzpnNDH-Fxon",
    "outputId": "37181999-ed7d-42e9-e54a-77084cd1e785"
   },
   "outputs": [],
   "source": [
    "#from google.colab import drive\n",
    "#drive.mount('/content/drive')"
   ]
  },
  {
   "cell_type": "code",
   "execution_count": null,
   "metadata": {
    "colab": {
     "base_uri": "https://localhost:8080/",
     "height": 34
    },
    "colab_type": "code",
    "id": "DaMlZ0O3F3cC",
    "outputId": "96f04a76-ad64-4b48-bcca-5786656c8911"
   },
   "outputs": [],
   "source": [
    "# % cd \"/content/drive/My Drive/Colab Notebooks/ud-image-captioning\""
   ]
  },
  {
   "cell_type": "markdown",
   "metadata": {},
   "source": [
    "## Setup for training the model"
   ]
  },
  {
   "cell_type": "code",
   "execution_count": 1,
   "metadata": {
    "colab": {
     "base_uri": "https://localhost:8080/",
     "height": 68
    },
    "colab_type": "code",
    "id": "mECXH3oiyv7C",
    "outputId": "9408f039-8f06-439b-f47b-ef6e4b9e9e32"
   },
   "outputs": [
    {
     "name": "stderr",
     "output_type": "stream",
     "text": [
      "[nltk_data] Downloading package punkt to\n",
      "[nltk_data]     C:\\Users\\susbr\\AppData\\Roaming\\nltk_data...\n",
      "[nltk_data]   Package punkt is already up-to-date!\n"
     ]
    },
    {
     "data": {
      "text/plain": [
       "True"
      ]
     },
     "execution_count": 1,
     "metadata": {},
     "output_type": "execute_result"
    }
   ],
   "source": [
    "# load missing library\n",
    "import nltk\n",
    "nltk.download('punkt')"
   ]
  },
  {
   "cell_type": "code",
   "execution_count": 6,
   "metadata": {},
   "outputs": [
    {
     "name": "stdout",
     "output_type": "stream",
     "text": [
      "/cygdrive/g/Udacity CV/ud-image-captioning\n"
     ]
    }
   ],
   "source": [
    "!pwd"
   ]
  },
  {
   "cell_type": "code",
   "execution_count": 15,
   "metadata": {
    "colab": {},
    "colab_type": "code",
    "id": "KfFXJ3kLyv7i"
   },
   "outputs": [],
   "source": [
    "import torch\n",
    "import torch.nn as nn\n",
    "from torchvision import transforms\n",
    "import sys\n",
    "#sys.path.append('/opt/cocoapi/PythonAPI')\n",
    "sys.path.append('G:/cocoapi/PythonAPI')\n",
    "from pycocotools.coco import COCO\n",
    "#from data_loader import get_loader\n",
    "from data_loader_eval import get_loader\n",
    "from model import EncoderCNN, DecoderRNN\n",
    "import math\n",
    "import torch.utils.data as data\n",
    "import numpy as np\n",
    "import os\n",
    "import requests\n",
    "import time\n",
    "import json"
   ]
  },
  {
   "cell_type": "code",
   "execution_count": 16,
   "metadata": {},
   "outputs": [
    {
     "data": {
      "text/plain": [
       "True"
      ]
     },
     "execution_count": 16,
     "metadata": {},
     "output_type": "execute_result"
    }
   ],
   "source": [
    "torch.cuda.is_available()"
   ]
  },
  {
   "cell_type": "code",
   "execution_count": 17,
   "metadata": {},
   "outputs": [
    {
     "name": "stdout",
     "output_type": "stream",
     "text": [
      "<module 'torch.version' from 'C:\\\\Users\\\\susbr\\\\AppData\\\\Local\\\\Continuum\\\\anaconda3\\\\envs\\\\pytorch\\\\lib\\\\site-packages\\\\torch\\\\version.py'>\n"
     ]
    }
   ],
   "source": [
    "print(torch.version)\n"
   ]
  },
  {
   "cell_type": "code",
   "execution_count": 22,
   "metadata": {
    "colab": {},
    "colab_type": "code",
    "id": "IVbXldpNcM50"
   },
   "outputs": [],
   "source": [
    "## TODO #1: Select appropriate values for the Python variables below.\n",
    "batch_size = 128        # batch size\n",
    "vocab_threshold = 5        # minimum word count threshold\n",
    "vocab_from_file = False   # if True, load existing vocab file\n",
    "embed_size = 512           # dimensionality of image and word embeddings\n",
    "hidden_size = 512          # number of features in hidden state of the RNN decoder\n",
    "num_epochs = 5            # number of training epochs\n",
    "save_every = 1             # determines frequency of saving model weights\n",
    "print_every = 100          # determines window for printing average loss\n",
    "log_file = 'training_log.txt'       # name of file with saved training loss and perplexity\n"
   ]
  },
  {
   "cell_type": "code",
   "execution_count": 19,
   "metadata": {
    "colab": {},
    "colab_type": "code",
    "id": "LUGjk9SrcQUE"
   },
   "outputs": [],
   "source": [
    "# (Optional) TODO #2: Amend the image transform below.\n",
    "transform_train = transforms.Compose([ \n",
    "    transforms.Resize(256),                          # smaller edge of image resized to 256\n",
    "    transforms.RandomCrop(224),                      # get 224x224 crop from random location\n",
    "    transforms.RandomHorizontalFlip(),               # horizontally flip image with probability=0.5\n",
    "    transforms.ToTensor(),                           # convert the PIL Image to a tensor\n",
    "    transforms.Normalize((0.485, 0.456, 0.406),      # normalize image for pre-trained model\n",
    "                         (0.229, 0.224, 0.225))])\n",
    "\n",
    "# Add validation tranforms\n",
    "transform_val = transforms.Compose([ \n",
    "    #transforms.Resize(224),                          # smaller edge of image resized to 256\n",
    "    transforms.Resize(256),                          # smaller edge of image resized to 256\n",
    "    transforms.RandomCrop(224),                      # get 224x224 crop from random location\n",
    "    transforms.ToTensor(),                           # convert the PIL Image to a tensor\n",
    "    transforms.Normalize((0.485, 0.456, 0.406),      # normalize image for pre-trained model\n",
    "                         (0.229, 0.224, 0.225))])\n"
   ]
  },
  {
   "cell_type": "code",
   "execution_count": 20,
   "metadata": {
    "colab": {
     "base_uri": "https://localhost:8080/",
     "height": 51
    },
    "colab_type": "code",
    "id": "VFlcRtHdeLlK",
    "outputId": "8c5f968d-75e4-416d-cfb2-48e2adca8d2d"
   },
   "outputs": [],
   "source": [
    "%load_ext autoreload\n",
    "\n",
    "%autoreload 2\n",
    "from data_loader_eval import get_loader"
   ]
  },
  {
   "cell_type": "code",
   "execution_count": 23,
   "metadata": {
    "colab": {
     "base_uri": "https://localhost:8080/",
     "height": 136
    },
    "colab_type": "code",
    "id": "zPVk458HcVNo",
    "outputId": "c915f1bc-cd70-495f-9de7-2ff573496e53"
   },
   "outputs": [
    {
     "name": "stdout",
     "output_type": "stream",
     "text": [
      "loading annotations into memory...\n",
      "Done (t=1.50s)\n",
      "creating index...\n",
      "index created!\n",
      "[0/414113] Tokenizing captions...\n",
      "[100000/414113] Tokenizing captions...\n",
      "[200000/414113] Tokenizing captions...\n",
      "[300000/414113] Tokenizing captions...\n",
      "[400000/414113] Tokenizing captions...\n",
      "loading annotations into memory...\n"
     ]
    },
    {
     "name": "stderr",
     "output_type": "stream",
     "text": [
      "\r",
      "  0%|                                                                                       | 0/414113 [00:00<?, ?it/s]"
     ]
    },
    {
     "name": "stdout",
     "output_type": "stream",
     "text": [
      "Done (t=0.62s)\n",
      "creating index...\n",
      "index created!\n",
      "Obtaining caption lengths...\n"
     ]
    },
    {
     "name": "stderr",
     "output_type": "stream",
     "text": [
      "100%|███████████████████████████████████████████████████████████████████████| 414113/414113 [00:39<00:00, 10476.82it/s]\n"
     ]
    }
   ],
   "source": [
    "# Build data loader.\n",
    "data_loader = get_loader(transform=transform_train,\n",
    "                         mode='train',\n",
    "                         batch_size=batch_size,\n",
    "                         vocab_threshold=vocab_threshold,\n",
    "                         vocab_from_file=vocab_from_file)"
   ]
  },
  {
   "cell_type": "code",
   "execution_count": 24,
   "metadata": {
    "colab": {},
    "colab_type": "code",
    "id": "L_4z64NY0sPe"
   },
   "outputs": [
    {
     "name": "stdout",
     "output_type": "stream",
     "text": [
      "Vocabulary successfully loaded from vocab.pkl file!\n"
     ]
    }
   ],
   "source": [
    "# Build validation data loader\n",
    "val_data_loader = get_loader(transform=transform_val, \n",
    "                         mode='val')"
   ]
  },
  {
   "cell_type": "code",
   "execution_count": 25,
   "metadata": {
    "colab": {},
    "colab_type": "code",
    "id": "PdqAxl--cXvg"
   },
   "outputs": [],
   "source": [
    "# The size of the vocabulary.\n",
    "vocab_size = len(data_loader.dataset.vocab)"
   ]
  },
  {
   "cell_type": "code",
   "execution_count": 26,
   "metadata": {
    "colab": {
     "base_uri": "https://localhost:8080/",
     "height": 71
    },
    "colab_type": "code",
    "id": "2oUnvmN8c0Zv",
    "outputId": "490089bd-b7da-4d0b-be41-f9119a587dfb"
   },
   "outputs": [
    {
     "name": "stderr",
     "output_type": "stream",
     "text": [
      "Downloading: \"https://download.pytorch.org/models/resnet50-19c8e357.pth\" to C:\\Users\\susbr/.cache\\torch\\checkpoints\\resnet50-19c8e357.pth\n",
      "100.0%\n"
     ]
    }
   ],
   "source": [
    "# Initialize the encoder and decoder. \n",
    "encoder = EncoderCNN(embed_size)\n",
    "decoder = DecoderRNN(embed_size, hidden_size, vocab_size)\n",
    "\n",
    "# Move models to GPU if CUDA is available. \n",
    "device = torch.device(\"cuda\" if torch.cuda.is_available() else \"cpu\")\n",
    "encoder.to(device)\n",
    "decoder.to(device)\n",
    "\n",
    "# Define the loss function. \n",
    "criterion = nn.CrossEntropyLoss().cuda() if torch.cuda.is_available() else nn.CrossEntropyLoss()\n",
    "\n",
    "# TODO #3: Specify the learnable parameters of the model.\n",
    "params = list(decoder.parameters()) + list(encoder.embed.parameters())\n",
    "\n",
    "# TODO #4: Define the optimizer.\n",
    "optimizer = torch.optim.Adam(params)\n",
    "\n",
    "# Set the total number of training steps per epoch.\n",
    "total_step = math.ceil(len(data_loader.dataset.caption_lengths) / data_loader.batch_sampler.batch_size)"
   ]
  },
  {
   "cell_type": "markdown",
   "metadata": {
    "colab_type": "text",
    "id": "MDSmy9nQyv74"
   },
   "source": [
    "<a id='step2'></a>\n",
    "## Step 2: Train your Model\n",
    "\n",
    "Once you have executed the code cell in **Step 1**, the training procedure below should run without issue.  \n",
    "\n",
    "It is completely fine to leave the code cell below as-is without modifications to train your model.  However, if you would like to modify the code used to train the model below, you must ensure that your changes are easily parsed by your reviewer.  In other words, make sure to provide appropriate comments to describe how your code works!  \n",
    "\n",
    "You may find it useful to load saved weights to resume training.  In that case, note the names of the files containing the encoder and decoder weights that you'd like to load (`encoder_file` and `decoder_file`).  Then you can load the weights by using the lines below:\n",
    "\n",
    "```python\n",
    "# Load pre-trained weights before resuming training.\n",
    "encoder.load_state_dict(torch.load(os.path.join('./models', encoder_file)))\n",
    "decoder.load_state_dict(torch.load(os.path.join('./models', decoder_file)))\n",
    "```\n",
    "\n",
    "While trying out parameters, make sure to take extensive notes and record the settings that you used in your various training runs.  In particular, you don't want to encounter a situation where you've trained a model for several hours but can't remember what settings you used :).\n",
    "\n",
    "### A Note on Tuning Hyperparameters\n",
    "\n",
    "To figure out how well your model is doing, you can look at how the training loss and perplexity evolve during training - and for the purposes of this project, you are encouraged to amend the hyperparameters based on this information.  \n",
    "\n",
    "However, this will not tell you if your model is overfitting to the training data, and, unfortunately, overfitting is a problem that is commonly encountered when training image captioning models.  \n",
    "\n",
    "For this project, you need not worry about overfitting. **This project does not have strict requirements regarding the performance of your model**, and you just need to demonstrate that your model has learned **_something_** when you generate captions on the test data.  For now, we strongly encourage you to train your model for the suggested 3 epochs without worrying about performance; then, you should immediately transition to the next notebook in the sequence (**3_Inference.ipynb**) to see how your model performs on the test data.  If your model needs to be changed, you can come back to this notebook, amend hyperparameters (if necessary), and re-train the model.\n",
    "\n",
    "That said, if you would like to go above and beyond in this project, you can read about some approaches to minimizing overfitting in section 4.3.1 of [this paper](http://ieeexplore.ieee.org/stamp/stamp.jsp?arnumber=7505636).  In the next (optional) step of this notebook, we provide some guidance for assessing the performance on the validation dataset."
   ]
  },
  {
   "cell_type": "code",
   "execution_count": null,
   "metadata": {
    "colab": {},
    "colab_type": "code",
    "id": "tYR9MKDpK7u3"
   },
   "outputs": [],
   "source": [
    "#from data_loader import get_loader"
   ]
  },
  {
   "cell_type": "code",
   "execution_count": 29,
   "metadata": {},
   "outputs": [
    {
     "name": "stdout",
     "output_type": "stream",
     "text": [
      "G:\\Udacity CV\n"
     ]
    }
   ],
   "source": [
    "%cd \"Udacity CV\""
   ]
  },
  {
   "cell_type": "code",
   "execution_count": 30,
   "metadata": {},
   "outputs": [
    {
     "name": "stdout",
     "output_type": "stream",
     "text": [
      "G:\\Udacity CV\\ud-image-captioning\n"
     ]
    }
   ],
   "source": [
    "%cd \"ud-image-captioning\\\""
   ]
  },
  {
   "cell_type": "code",
   "execution_count": 32,
   "metadata": {
    "colab": {
     "base_uri": "https://localhost:8080/",
     "height": 34
    },
    "colab_type": "code",
    "id": "spXUxsfxq8Fk",
    "outputId": "84fef78c-76cb-4354-d1ab-951f2dd6f26b"
   },
   "outputs": [
    {
     "ename": "RuntimeError",
     "evalue": "Error(s) in loading state_dict for DecoderRNN:\n\tsize mismatch for word_embeddings.weight: copying a param with shape torch.Size([9955, 512]) from checkpoint, the shape in current model is torch.Size([8856, 512]).\n\tsize mismatch for fc.weight: copying a param with shape torch.Size([9955, 512]) from checkpoint, the shape in current model is torch.Size([8856, 512]).\n\tsize mismatch for fc.bias: copying a param with shape torch.Size([9955]) from checkpoint, the shape in current model is torch.Size([8856]).",
     "output_type": "error",
     "traceback": [
      "\u001b[1;31m---------------------------------------------------------------------------\u001b[0m",
      "\u001b[1;31mRuntimeError\u001b[0m                              Traceback (most recent call last)",
      "\u001b[1;32m<ipython-input-32-93f12b7a3d4a>\u001b[0m in \u001b[0;36m<module>\u001b[1;34m\u001b[0m\n\u001b[0;32m      1\u001b[0m \u001b[1;31m# Load pre-trained weights before resuming training.\u001b[0m\u001b[1;33m\u001b[0m\u001b[1;33m\u001b[0m\u001b[1;33m\u001b[0m\u001b[0m\n\u001b[0;32m      2\u001b[0m \u001b[0mencoder\u001b[0m\u001b[1;33m.\u001b[0m\u001b[0mload_state_dict\u001b[0m\u001b[1;33m(\u001b[0m\u001b[0mtorch\u001b[0m\u001b[1;33m.\u001b[0m\u001b[0mload\u001b[0m\u001b[1;33m(\u001b[0m\u001b[0mos\u001b[0m\u001b[1;33m.\u001b[0m\u001b[0mpath\u001b[0m\u001b[1;33m.\u001b[0m\u001b[0mjoin\u001b[0m\u001b[1;33m(\u001b[0m\u001b[1;34m'./models'\u001b[0m\u001b[1;33m,\u001b[0m \u001b[1;34m'old_encoder-3.pkl'\u001b[0m\u001b[1;33m)\u001b[0m\u001b[1;33m)\u001b[0m\u001b[1;33m)\u001b[0m\u001b[1;33m\u001b[0m\u001b[1;33m\u001b[0m\u001b[0m\n\u001b[1;32m----> 3\u001b[1;33m \u001b[0mdecoder\u001b[0m\u001b[1;33m.\u001b[0m\u001b[0mload_state_dict\u001b[0m\u001b[1;33m(\u001b[0m\u001b[0mtorch\u001b[0m\u001b[1;33m.\u001b[0m\u001b[0mload\u001b[0m\u001b[1;33m(\u001b[0m\u001b[0mos\u001b[0m\u001b[1;33m.\u001b[0m\u001b[0mpath\u001b[0m\u001b[1;33m.\u001b[0m\u001b[0mjoin\u001b[0m\u001b[1;33m(\u001b[0m\u001b[1;34m'./models'\u001b[0m\u001b[1;33m,\u001b[0m \u001b[1;34m'old_decoder-3.pkl'\u001b[0m\u001b[1;33m)\u001b[0m\u001b[1;33m)\u001b[0m\u001b[1;33m)\u001b[0m\u001b[1;33m\u001b[0m\u001b[1;33m\u001b[0m\u001b[0m\n\u001b[0m",
      "\u001b[1;32m~\\AppData\\Local\\Continuum\\anaconda3\\envs\\pytorch\\lib\\site-packages\\torch\\nn\\modules\\module.py\u001b[0m in \u001b[0;36mload_state_dict\u001b[1;34m(self, state_dict, strict)\u001b[0m\n\u001b[0;32m    837\u001b[0m         \u001b[1;32mif\u001b[0m \u001b[0mlen\u001b[0m\u001b[1;33m(\u001b[0m\u001b[0merror_msgs\u001b[0m\u001b[1;33m)\u001b[0m \u001b[1;33m>\u001b[0m \u001b[1;36m0\u001b[0m\u001b[1;33m:\u001b[0m\u001b[1;33m\u001b[0m\u001b[1;33m\u001b[0m\u001b[0m\n\u001b[0;32m    838\u001b[0m             raise RuntimeError('Error(s) in loading state_dict for {}:\\n\\t{}'.format(\n\u001b[1;32m--> 839\u001b[1;33m                                self.__class__.__name__, \"\\n\\t\".join(error_msgs)))\n\u001b[0m\u001b[0;32m    840\u001b[0m         \u001b[1;32mreturn\u001b[0m \u001b[0m_IncompatibleKeys\u001b[0m\u001b[1;33m(\u001b[0m\u001b[0mmissing_keys\u001b[0m\u001b[1;33m,\u001b[0m \u001b[0munexpected_keys\u001b[0m\u001b[1;33m)\u001b[0m\u001b[1;33m\u001b[0m\u001b[1;33m\u001b[0m\u001b[0m\n\u001b[0;32m    841\u001b[0m \u001b[1;33m\u001b[0m\u001b[0m\n",
      "\u001b[1;31mRuntimeError\u001b[0m: Error(s) in loading state_dict for DecoderRNN:\n\tsize mismatch for word_embeddings.weight: copying a param with shape torch.Size([9955, 512]) from checkpoint, the shape in current model is torch.Size([8856, 512]).\n\tsize mismatch for fc.weight: copying a param with shape torch.Size([9955, 512]) from checkpoint, the shape in current model is torch.Size([8856, 512]).\n\tsize mismatch for fc.bias: copying a param with shape torch.Size([9955]) from checkpoint, the shape in current model is torch.Size([8856])."
     ]
    }
   ],
   "source": [
    "# Load pre-trained weights before resuming training.\n",
    "encoder.load_state_dict(torch.load(os.path.join('./models', 'old_encoder-3.pkl')))\n",
    "decoder.load_state_dict(torch.load(os.path.join('./models', 'old_decoder-3.pkl')))"
   ]
  },
  {
   "cell_type": "code",
   "execution_count": null,
   "metadata": {
    "colab": {
     "base_uri": "https://localhost:8080/",
     "height": 1000
    },
    "colab_type": "code",
    "id": "teK9sjzgyv8E",
    "outputId": "9114f0fa-ae65-4afd-a132-8c8958022bc0"
   },
   "outputs": [
    {
     "name": "stdout",
     "output_type": "stream",
     "text": [
      "torch.Size([128, 12, 512])\n",
      "Epoch [1/5], Step [1/3236], Loss: 9.1807, Perplexity: 9708.2359torch.Size([128, 11, 512])\n",
      "Epoch [1/5], Step [2/3236], Loss: 8.9351, Perplexity: 7594.2040torch.Size([128, 10, 512])\n",
      "Epoch [1/5], Step [3/3236], Loss: 8.7502, Perplexity: 6312.2230torch.Size([128, 12, 512])\n",
      "Epoch [1/5], Step [4/3236], Loss: 8.4204, Perplexity: 4538.5656torch.Size([128, 16, 512])\n",
      "Epoch [1/5], Step [5/3236], Loss: 8.1542, Perplexity: 3478.0971torch.Size([128, 12, 512])\n",
      "Epoch [1/5], Step [6/3236], Loss: 7.8094, Perplexity: 2463.5933torch.Size([128, 15, 512])\n",
      "Epoch [1/5], Step [7/3236], Loss: 7.4771, Perplexity: 1767.1422torch.Size([128, 11, 512])\n",
      "Epoch [1/5], Step [8/3236], Loss: 7.2110, Perplexity: 1354.2535torch.Size([128, 13, 512])\n",
      "Epoch [1/5], Step [9/3236], Loss: 6.7312, Perplexity: 838.1410torch.Size([128, 11, 512])\n",
      "Epoch [1/5], Step [10/3236], Loss: 6.4425, Perplexity: 627.9757torch.Size([128, 11, 512])\n",
      "Epoch [1/5], Step [11/3236], Loss: 6.1373, Perplexity: 462.7796torch.Size([128, 12, 512])\n",
      "Epoch [1/5], Step [12/3236], Loss: 5.7277, Perplexity: 307.2615torch.Size([128, 13, 512])\n",
      "Epoch [1/5], Step [13/3236], Loss: 5.5333, Perplexity: 252.9672torch.Size([128, 10, 512])\n",
      "Epoch [1/5], Step [14/3236], Loss: 5.5111, Perplexity: 247.4154torch.Size([128, 13, 512])\n",
      "Epoch [1/5], Step [15/3236], Loss: 5.1819, Perplexity: 178.0206torch.Size([128, 11, 512])\n",
      "Epoch [1/5], Step [16/3236], Loss: 5.1241, Perplexity: 168.0308torch.Size([128, 13, 512])\n",
      "Epoch [1/5], Step [17/3236], Loss: 4.8883, Perplexity: 132.7277torch.Size([128, 16, 512])\n",
      "Epoch [1/5], Step [18/3236], Loss: 5.0919, Perplexity: 162.6947torch.Size([128, 12, 512])\n",
      "Epoch [1/5], Step [19/3236], Loss: 4.7668, Perplexity: 117.5370torch.Size([128, 20, 512])\n",
      "Epoch [1/5], Step [20/3236], Loss: 5.1851, Perplexity: 178.5952torch.Size([128, 13, 512])\n",
      "Epoch [1/5], Step [21/3236], Loss: 4.9071, Perplexity: 135.2429torch.Size([128, 16, 512])\n",
      "Epoch [1/5], Step [22/3236], Loss: 4.9565, Perplexity: 142.1022torch.Size([128, 12, 512])\n",
      "Epoch [1/5], Step [23/3236], Loss: 4.6292, Perplexity: 102.4274torch.Size([128, 11, 512])\n",
      "Epoch [1/5], Step [24/3236], Loss: 4.7383, Perplexity: 114.2376torch.Size([128, 17, 512])\n",
      "Epoch [1/5], Step [25/3236], Loss: 4.8404, Perplexity: 126.5212torch.Size([128, 14, 512])\n",
      "Epoch [1/5], Step [26/3236], Loss: 4.5393, Perplexity: 93.6276torch.Size([128, 12, 512])\n",
      "Epoch [1/5], Step [27/3236], Loss: 4.3862, Perplexity: 80.3346torch.Size([128, 14, 512])\n",
      "Epoch [1/5], Step [28/3236], Loss: 4.4020, Perplexity: 81.6114torch.Size([128, 12, 512])\n",
      "Epoch [1/5], Step [29/3236], Loss: 4.3648, Perplexity: 78.6369torch.Size([128, 15, 512])\n",
      "Epoch [1/5], Step [30/3236], Loss: 4.3622, Perplexity: 78.4301torch.Size([128, 11, 512])\n",
      "Epoch [1/5], Step [31/3236], Loss: 4.3021, Perplexity: 73.8520torch.Size([128, 14, 512])\n",
      "Epoch [1/5], Step [32/3236], Loss: 4.1747, Perplexity: 65.0188torch.Size([128, 11, 512])\n",
      "Epoch [1/5], Step [33/3236], Loss: 4.3836, Perplexity: 80.1265torch.Size([128, 15, 512])\n",
      "Epoch [1/5], Step [34/3236], Loss: 4.3357, Perplexity: 76.3803torch.Size([128, 17, 512])\n",
      "Epoch [1/5], Step [35/3236], Loss: 4.4674, Perplexity: 87.1293torch.Size([128, 16, 512])\n",
      "Epoch [1/5], Step [36/3236], Loss: 4.4054, Perplexity: 81.8889torch.Size([128, 21, 512])\n",
      "Epoch [1/5], Step [37/3236], Loss: 4.8526, Perplexity: 128.0675torch.Size([128, 14, 512])\n",
      "Epoch [1/5], Step [38/3236], Loss: 4.0860, Perplexity: 59.4996torch.Size([128, 11, 512])\n",
      "Epoch [1/5], Step [39/3236], Loss: 4.2584, Perplexity: 70.6989torch.Size([128, 14, 512])\n",
      "Epoch [1/5], Step [40/3236], Loss: 4.0500, Perplexity: 57.3980torch.Size([128, 10, 512])\n",
      "Epoch [1/5], Step [41/3236], Loss: 4.4541, Perplexity: 85.9793torch.Size([128, 11, 512])\n",
      "Epoch [1/5], Step [42/3236], Loss: 4.1835, Perplexity: 65.5935torch.Size([128, 10, 512])\n",
      "Epoch [1/5], Step [43/3236], Loss: 4.4272, Perplexity: 83.6994torch.Size([128, 13, 512])\n",
      "Epoch [1/5], Step [44/3236], Loss: 4.1311, Perplexity: 62.2464torch.Size([128, 13, 512])\n",
      "Epoch [1/5], Step [45/3236], Loss: 4.0551, Perplexity: 57.6885torch.Size([128, 13, 512])\n",
      "Epoch [1/5], Step [46/3236], Loss: 4.0060, Perplexity: 54.9274torch.Size([128, 12, 512])\n",
      "Epoch [1/5], Step [47/3236], Loss: 3.9631, Perplexity: 52.6220torch.Size([128, 11, 512])\n",
      "Epoch [1/5], Step [48/3236], Loss: 4.0728, Perplexity: 58.7223torch.Size([128, 11, 512])\n",
      "Epoch [1/5], Step [49/3236], Loss: 3.9328, Perplexity: 51.0479torch.Size([128, 14, 512])\n",
      "Epoch [1/5], Step [50/3236], Loss: 4.1334, Perplexity: 62.3884torch.Size([128, 17, 512])\n",
      "Epoch [1/5], Step [51/3236], Loss: 4.3607, Perplexity: 78.3139torch.Size([128, 11, 512])\n",
      "Epoch [1/5], Step [52/3236], Loss: 3.9661, Perplexity: 52.7786torch.Size([128, 12, 512])\n",
      "Epoch [1/5], Step [53/3236], Loss: 3.7634, Perplexity: 43.0962torch.Size([128, 19, 512])\n",
      "Epoch [1/5], Step [54/3236], Loss: 4.3571, Perplexity: 78.0268torch.Size([128, 14, 512])\n",
      "Epoch [1/5], Step [55/3236], Loss: 3.8436, Perplexity: 46.6955torch.Size([128, 12, 512])\n",
      "Epoch [1/5], Step [56/3236], Loss: 3.8465, Perplexity: 46.8269torch.Size([128, 13, 512])\n",
      "Epoch [1/5], Step [57/3236], Loss: 3.8671, Perplexity: 47.8023torch.Size([128, 13, 512])\n",
      "Epoch [1/5], Step [58/3236], Loss: 3.8922, Perplexity: 49.0208torch.Size([128, 13, 512])\n",
      "Epoch [1/5], Step [59/3236], Loss: 3.7938, Perplexity: 44.4259torch.Size([128, 12, 512])\n",
      "Epoch [1/5], Step [60/3236], Loss: 3.9056, Perplexity: 49.6806torch.Size([128, 11, 512])\n",
      "Epoch [1/5], Step [61/3236], Loss: 3.9205, Perplexity: 50.4236torch.Size([128, 12, 512])\n",
      "Epoch [1/5], Step [62/3236], Loss: 3.8281, Perplexity: 45.9740torch.Size([128, 10, 512])\n",
      "Epoch [1/5], Step [63/3236], Loss: 4.2298, Perplexity: 68.7068torch.Size([128, 17, 512])\n",
      "Epoch [1/5], Step [64/3236], Loss: 4.0496, Perplexity: 57.3739torch.Size([128, 14, 512])\n",
      "Epoch [1/5], Step [65/3236], Loss: 3.8155, Perplexity: 45.3995torch.Size([128, 12, 512])\n",
      "Epoch [1/5], Step [66/3236], Loss: 3.6872, Perplexity: 39.9319torch.Size([128, 13, 512])\n",
      "Epoch [1/5], Step [67/3236], Loss: 3.8567, Perplexity: 47.3113torch.Size([128, 12, 512])\n",
      "Epoch [1/5], Step [68/3236], Loss: 3.8039, Perplexity: 44.8739torch.Size([128, 14, 512])\n",
      "Epoch [1/5], Step [69/3236], Loss: 3.6835, Perplexity: 39.7853torch.Size([128, 11, 512])\n",
      "Epoch [1/5], Step [70/3236], Loss: 3.7838, Perplexity: 43.9848torch.Size([128, 13, 512])\n",
      "Epoch [1/5], Step [71/3236], Loss: 3.6299, Perplexity: 37.7078torch.Size([128, 12, 512])\n",
      "Epoch [1/5], Step [72/3236], Loss: 3.7134, Perplexity: 40.9911torch.Size([128, 13, 512])\n",
      "Epoch [1/5], Step [73/3236], Loss: 3.7050, Perplexity: 40.6511torch.Size([128, 14, 512])\n",
      "Epoch [1/5], Step [74/3236], Loss: 3.7096, Perplexity: 40.8391torch.Size([128, 12, 512])\n",
      "Epoch [1/5], Step [75/3236], Loss: 3.7064, Perplexity: 40.7090torch.Size([128, 12, 512])\n",
      "Epoch [1/5], Step [76/3236], Loss: 3.6888, Perplexity: 39.9976torch.Size([128, 14, 512])\n",
      "Epoch [1/5], Step [77/3236], Loss: 3.7547, Perplexity: 42.7195torch.Size([128, 14, 512])\n",
      "Epoch [1/5], Step [78/3236], Loss: 3.6939, Perplexity: 40.2010torch.Size([128, 13, 512])\n",
      "Epoch [1/5], Step [79/3236], Loss: 3.7311, Perplexity: 41.7233torch.Size([128, 10, 512])\n",
      "Epoch [1/5], Step [80/3236], Loss: 4.1083, Perplexity: 60.8445torch.Size([128, 11, 512])\n",
      "Epoch [1/5], Step [81/3236], Loss: 3.9122, Perplexity: 50.0105torch.Size([128, 11, 512])\n",
      "Epoch [1/5], Step [82/3236], Loss: 3.6518, Perplexity: 38.5437torch.Size([128, 11, 512])\n",
      "Epoch [1/5], Step [83/3236], Loss: 3.6327, Perplexity: 37.8151torch.Size([128, 14, 512])\n",
      "Epoch [1/5], Step [84/3236], Loss: 3.5069, Perplexity: 33.3438torch.Size([128, 16, 512])\n",
      "Epoch [1/5], Step [85/3236], Loss: 3.9193, Perplexity: 50.3644torch.Size([128, 14, 512])\n",
      "Epoch [1/5], Step [86/3236], Loss: 3.6321, Perplexity: 37.7924torch.Size([128, 24, 512])\n",
      "Epoch [1/5], Step [87/3236], Loss: 4.8346, Perplexity: 125.7920torch.Size([128, 16, 512])\n",
      "Epoch [1/5], Step [88/3236], Loss: 3.9059, Perplexity: 49.6971torch.Size([128, 13, 512])\n",
      "Epoch [1/5], Step [89/3236], Loss: 3.4908, Perplexity: 32.8122torch.Size([128, 11, 512])\n",
      "Epoch [1/5], Step [90/3236], Loss: 3.8031, Perplexity: 44.8412torch.Size([128, 15, 512])\n",
      "Epoch [1/5], Step [91/3236], Loss: 3.6011, Perplexity: 36.6374torch.Size([128, 12, 512])\n"
     ]
    },
    {
     "name": "stdout",
     "output_type": "stream",
     "text": [
      "Epoch [1/5], Step [92/3236], Loss: 3.7461, Perplexity: 42.3563torch.Size([128, 12, 512])\n",
      "Epoch [1/5], Step [93/3236], Loss: 3.5935, Perplexity: 36.3609torch.Size([128, 11, 512])\n",
      "Epoch [1/5], Step [94/3236], Loss: 3.7725, Perplexity: 43.4891torch.Size([128, 11, 512])\n",
      "Epoch [1/5], Step [95/3236], Loss: 3.7692, Perplexity: 43.3446torch.Size([128, 11, 512])\n",
      "Epoch [1/5], Step [96/3236], Loss: 3.5253, Perplexity: 33.9653"
     ]
    }
   ],
   "source": [
    "# Open the training log file.\n",
    "f = open(log_file, 'w')\n",
    "\n",
    "old_time = time.time()\n",
    "#response = requests.request(\"GET\", \n",
    "#                            \"http://metadata.google.internal/computeMetadata/v1/instance/attributes/keep_alive_token\", \n",
    "#                           headers={\"Metadata-Flavor\":\"Google\"})\n",
    "\n",
    "for epoch in range(1, num_epochs+1):\n",
    "    \n",
    "    for i_step in range(1, total_step+1):\n",
    "        \n",
    "        if time.time() - old_time > 60:\n",
    "            old_time = time.time()\n",
    "            #requests.request(\"POST\", \n",
    "             #                \"https://nebula.udacity.com/api/v1/remote/keep-alive\", \n",
    "              #               headers={'Authorization': \"STAR \" + response.text})\n",
    "        \n",
    "        # Randomly sample a caption length, and sample indices with that length.\n",
    "        indices = data_loader.dataset.get_train_indices()\n",
    "        # Create and assign a batch sampler to retrieve a batch with the sampled indices.\n",
    "        new_sampler = data.sampler.SubsetRandomSampler(indices=indices)\n",
    "        data_loader.batch_sampler.sampler = new_sampler\n",
    "        \n",
    "        # Obtain the batch.\n",
    "        images, captions = next(iter(data_loader))\n",
    "\n",
    "        # Move batch of images and captions to GPU if CUDA is available.\n",
    "        images = images.to(device)\n",
    "        captions = captions.to(device)\n",
    "        \n",
    "        # Zero the gradients.\n",
    "        decoder.zero_grad()\n",
    "        encoder.zero_grad()\n",
    "        \n",
    "        # Pass the inputs through the CNN-RNN model.\n",
    "        features = encoder(images)\n",
    "        outputs = decoder(features, captions)\n",
    "        \n",
    "        # Calculate the batch loss.\n",
    "        loss = criterion(outputs.view(-1, vocab_size), captions.view(-1))\n",
    "        \n",
    "        # Backward pass.\n",
    "        loss.backward()\n",
    "        \n",
    "        # Update the parameters in the optimizer.\n",
    "        optimizer.step()\n",
    "            \n",
    "        # Get training statistics.\n",
    "        stats = 'Epoch [%d/%d], Step [%d/%d], Loss: %.4f, Perplexity: %5.4f' % (epoch, num_epochs, i_step, total_step, loss.item(), np.exp(loss.item()))\n",
    "        \n",
    "        # Print training statistics (on same line).\n",
    "        print('\\r' + stats, end=\"\")\n",
    "        sys.stdout.flush()\n",
    "        \n",
    "        # Print training statistics to file.\n",
    "        f.write(stats + '\\n')\n",
    "        f.flush()\n",
    "        \n",
    "        # Print training statistics (on different line).\n",
    "        if i_step % print_every == 0:\n",
    "            print('\\r' + stats)\n",
    "            \n",
    "    # Save the weights.\n",
    "    if epoch % save_every == 0:\n",
    "        torch.save(decoder.state_dict(), os.path.join('./models', 'decoder-%d.pkl' % epoch))\n",
    "        torch.save(encoder.state_dict(), os.path.join('./models', 'encoder-%d.pkl' % epoch))\n",
    "\n",
    "        #print ('Evaluation using BLEU: ')\n",
    "\n",
    "# Close the training log file.\n",
    "f.close()"
   ]
  },
  {
   "cell_type": "markdown",
   "metadata": {
    "colab_type": "text",
    "id": "-7OLcwSryv8X"
   },
   "source": [
    "<a id='step3'></a>\n",
    "## Step 3: (Optional) Validate your Model\n",
    "\n",
    "To assess potential overfitting, one approach is to assess performance on a validation set.  If you decide to do this **optional** task, you are required to first complete all of the steps in the next notebook in the sequence (**3_Inference.ipynb**); as part of that notebook, you will write and test code (specifically, the `sample` method in the `DecoderRNN` class) that uses your RNN decoder to generate captions.  That code will prove incredibly useful here. \n",
    "\n",
    "If you decide to validate your model, please do not edit the data loader in **data_loader.py**.  Instead, create a new file named **data_loader_val.py** containing the code for obtaining the data loader for the validation data.  You can access:\n",
    "- the validation images at filepath `'/opt/cocoapi/images/train2014/'`, and\n",
    "- the validation image caption annotation file at filepath `'/opt/cocoapi/annotations/captions_val2014.json'`.\n",
    "\n",
    "The suggested approach to validating your model involves creating a json file such as [this one](https://github.com/cocodataset/cocoapi/blob/master/results/captions_val2014_fakecap_results.json) containing your model's predicted captions for the validation images.  Then, you can write your own script or use one that you [find online](https://github.com/tylin/coco-caption) to calculate the BLEU score of your model.  You can read more about the BLEU score, along with other evaluation metrics (such as TEOR and Cider) in section 4.1 of [this paper](https://arxiv.org/pdf/1411.4555.pdf).  For more information about how to use the annotation file, check out the [website](http://cocodataset.org/#download) for the COCO dataset."
   ]
  },
  {
   "cell_type": "code",
   "execution_count": null,
   "metadata": {
    "colab": {
     "base_uri": "https://localhost:8080/",
     "height": 102
    },
    "colab_type": "code",
    "id": "DFNeHkNU0ddD",
    "outputId": "7aa9b2f1-4f77-4752-cc17-45f838832d26"
   },
   "outputs": [],
   "source": [
    "encoder.eval()\n",
    "decoder.eval()"
   ]
  },
  {
   "cell_type": "code",
   "execution_count": null,
   "metadata": {
    "colab": {},
    "colab_type": "code",
    "id": "JdODAHOh01vk"
   },
   "outputs": [],
   "source": [
    "# TODO: Bugfix for loading the correct annotations.##########################\n",
    "# Obtain validation image before and validation caption.\n",
    "val_image, val_caption = next(iter(val_data_loader))"
   ]
  },
  {
   "cell_type": "code",
   "execution_count": null,
   "metadata": {
    "colab": {},
    "colab_type": "code",
    "id": "BzzRrD8-Uw1w"
   },
   "outputs": [],
   "source": [
    "cocoapi_loc='/opt'\n",
    "annotations_file = os.path.join(cocoapi_loc, 'cocoapi/annotations/captions_val2014.json')\n",
    "val_info = json.loads(open(annotations_file).read())"
   ]
  },
  {
   "cell_type": "code",
   "execution_count": null,
   "metadata": {
    "colab": {},
    "colab_type": "code",
    "id": "vmtIilGoVl9Y"
   },
   "outputs": [],
   "source": [
    "#imgs = [item['file_name'] for item in val_info['images']]"
   ]
  },
  {
   "cell_type": "code",
   "execution_count": null,
   "metadata": {
    "colab": {},
    "colab_type": "code",
    "id": "jEkt3x6NXT-h"
   },
   "outputs": [],
   "source": [
    "# annot = val_info['annotations']"
   ]
  },
  {
   "cell_type": "code",
   "execution_count": null,
   "metadata": {
    "colab": {},
    "colab_type": "code",
    "id": "Sys_hBPgaX4M"
   },
   "outputs": [],
   "source": [
    "captions = [item['caption'] for item in val_info['annotations']]"
   ]
  },
  {
   "cell_type": "code",
   "execution_count": null,
   "metadata": {
    "colab": {},
    "colab_type": "code",
    "id": "trlPA1Uoa7_V"
   },
   "outputs": [],
   "source": [
    "img_ids = [item['image_id'] for item in val_info['annotations']]"
   ]
  },
  {
   "cell_type": "code",
   "execution_count": null,
   "metadata": {
    "colab": {},
    "colab_type": "code",
    "id": "RfoD2YGlbug1"
   },
   "outputs": [],
   "source": [
    "val_dict = dict(zip(img_ids, captions))"
   ]
  },
  {
   "cell_type": "code",
   "execution_count": null,
   "metadata": {
    "colab": {
     "base_uri": "https://localhost:8080/",
     "height": 34
    },
    "colab_type": "code",
    "id": "kiacnsA6YvCN",
    "outputId": "12fa74ce-7dd9-43df-f5ff-24ea100ce67c"
   },
   "outputs": [],
   "source": [
    "print (len(val_dict))"
   ]
  },
  {
   "cell_type": "code",
   "execution_count": null,
   "metadata": {
    "colab": {
     "base_uri": "https://localhost:8080/",
     "height": 34
    },
    "colab_type": "code",
    "id": "3eBVE0hJWU1Z",
    "outputId": "508a8230-4aca-4dfa-fc33-f984bd758804"
   },
   "outputs": [],
   "source": [
    "print (len(imgs))"
   ]
  },
  {
   "cell_type": "code",
   "execution_count": null,
   "metadata": {
    "colab": {
     "base_uri": "https://localhost:8080/",
     "height": 850
    },
    "colab_type": "code",
    "id": "LPNu-t1H_m6K",
    "outputId": "cf8d4441-ed79-45e1-cfef-96c5066486e4"
   },
   "outputs": [],
   "source": [
    "print (val_image)"
   ]
  },
  {
   "cell_type": "code",
   "execution_count": null,
   "metadata": {},
   "outputs": [],
   "source": [
    "def clean_sentence(output):\n",
    "    \n",
    "    sentense = ''\n",
    "    for i in output:\n",
    "        word = data_loader.dataset.vocab.idx2word[i]\n",
    "        if i == 0:\n",
    "            continue\n",
    "        if i == 1:\n",
    "            break\n",
    "        if i == 18:\n",
    "            sentense = sentense + word\n",
    "        else:\n",
    "            sentense = sentense + ' ' + word\n",
    "    \n",
    "    return sentense.strip()"
   ]
  },
  {
   "cell_type": "code",
   "execution_count": null,
   "metadata": {},
   "outputs": [],
   "source": [
    "def get_val_prediction():\n",
    "    orig_image, image = next(iter(val_data_loader))\n",
    "    plt.imshow(np.squeeze(orig_image))\n",
    "    plt.title('Sample Image')\n",
    "    plt.show()\n",
    "    image = image.to(device)\n",
    "    features = encoder(image).unsqueeze(1)\n",
    "    output = decoder.sample(features)    \n",
    "    sentence = clean_sentence(output)\n",
    "    print(sentence)\n",
    "    return sentence"
   ]
  },
  {
   "cell_type": "code",
   "execution_count": null,
   "metadata": {
    "colab": {},
    "colab_type": "code",
    "id": "x3WsYqaVyv8a"
   },
   "outputs": [],
   "source": [
    "# (Optional) TODO: Validate your model."
   ]
  }
 ],
 "metadata": {
  "accelerator": "GPU",
  "anaconda-cloud": {},
  "colab": {
   "collapsed_sections": [],
   "name": "2_Training.ipynb",
   "provenance": [],
   "toc_visible": true
  },
  "kernelspec": {
   "display_name": "Python 3",
   "language": "python",
   "name": "python3"
  },
  "language_info": {
   "codemirror_mode": {
    "name": "ipython",
    "version": 3
   },
   "file_extension": ".py",
   "mimetype": "text/x-python",
   "name": "python",
   "nbconvert_exporter": "python",
   "pygments_lexer": "ipython3",
   "version": "3.7.5"
  }
 },
 "nbformat": 4,
 "nbformat_minor": 1
}
